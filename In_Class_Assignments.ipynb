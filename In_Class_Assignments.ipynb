{
  "nbformat": 4,
  "nbformat_minor": 0,
  "metadata": {
    "colab": {
      "provenance": [],
      "authorship_tag": "ABX9TyM2umawT49Zfdp4u+Vj+dvQ",
      "include_colab_link": true
    },
    "kernelspec": {
      "name": "python3",
      "display_name": "Python 3"
    },
    "language_info": {
      "name": "python"
    }
  },
  "cells": [
    {
      "cell_type": "markdown",
      "metadata": {
        "id": "view-in-github",
        "colab_type": "text"
      },
      "source": [
        "<a href=\"https://colab.research.google.com/github/Fayaz-Khalid/Fayaz-Khalid/blob/main/In_Class_Assignments.ipynb\" target=\"_parent\"><img src=\"https://colab.research.google.com/assets/colab-badge.svg\" alt=\"Open In Colab\"/></a>"
      ]
    },
    {
      "cell_type": "code",
      "execution_count": null,
      "metadata": {
        "colab": {
          "base_uri": "https://localhost:8080/"
        },
        "id": "Y5K69yFXkK0I",
        "outputId": "b5e2cda7-eb36-48c7-cd68-3d2d3abf6452"
      },
      "outputs": [
        {
          "output_type": "stream",
          "name": "stdout",
          "text": [
            "244.92000000000002\n"
          ]
        }
      ],
      "source": [
        "# Calculate surface area cylinder\n",
        "r=3 # Radius\n",
        "h=10 # Height\n",
        "pi=3.14\n",
        "\n",
        "Area = 2*pi*r**2 + 2*pi*r*h\n",
        "print(Area)"
      ]
    },
    {
      "cell_type": "code",
      "source": [
        "ans = input(\"Do you want to play a game (y or n): \")\n",
        "\n",
        "while ans == \"y\":\n",
        "\n",
        "  p1 = input ('p1 pick between rock, paper, and scissors: ')\n",
        "  p2 = input ('p2 pick between rock, paper, and scissors: ')\n",
        "\n",
        "  if p1 == p2:\n",
        "    print(\"Draw\")\n",
        "\n",
        "  elif p1 == \"scissors\" and p2 == \"paper\":\n",
        "    print(\"p1 wins\")\n",
        "\n",
        "  elif p1 == \"scissors\" and p2 == \"rock\":\n",
        "    print(\"p2 wins\")\n",
        "\n",
        "  elif p1 == \"rock\" and p2 == \"paper\":\n",
        "    print(\"p2 wins\")\n",
        "\n",
        "  elif p1 == \"rock\" and p2 == \"scissors\":\n",
        "    print(\"p1 wins\")\n",
        "\n",
        "  elif p1 == \"paper\" and p2 == \"rock\":\n",
        "    print(\"p1 wins\")\n",
        "\n",
        "  elif p1 == \"paper\" and p2 == \"scissors\":\n",
        "    print(\"p2 wins\")\n",
        "\n",
        "  ans = input(\"Do you want to play a game (y or n): \")"
      ],
      "metadata": {
        "colab": {
          "base_uri": "https://localhost:8080/"
        },
        "id": "fl3OUCg7s36D",
        "outputId": "33a58c0e-1ddd-4c0c-f783-d9d2f47d5165"
      },
      "execution_count": null,
      "outputs": [
        {
          "name": "stdout",
          "output_type": "stream",
          "text": [
            "Do you want to play a game (y or n): y\n",
            "p1 pick between rock, paper, and scissors: scissors\n",
            "p2 pick between rock, paper, and scissors: paper\n",
            "p1 wins\n",
            "Do you want to play a game (y or n): y\n",
            "p1 pick between rock, paper, and scissors: paper\n",
            "p2 pick between rock, paper, and scissors: rock\n",
            "p1 wins\n",
            "Do you want to play a game (y or n): n\n"
          ]
        }
      ]
    },
    {
      "cell_type": "code",
      "source": [
        "n1 = float(input(\"number 1: \"))\n",
        "n2 = float(input(\"number 2: \"))\n",
        "symbol = input(\"operation(+,-,*,/,**): \")\n",
        "\n",
        "\n",
        "if symbol == \"+\" :\n",
        "  ans = n1 + n2\n",
        "  print(ans)\n",
        "\n",
        "elif symbol == \"-\":\n",
        "  ans = n1 - n2\n",
        "  print(ans)\n",
        "\n",
        "elif symbol == \"*\":\n",
        "  ans = n1*n2\n",
        "  print(ans)\n",
        "\n",
        "elif symbol == \"/\":\n",
        "  ans = (n1)/(n2)\n",
        "  print(ans)\n",
        "\n",
        "elif symbol == \"**\":\n",
        "  ans = (n1)**(n2)\n",
        "  print(ans)\n",
        "\n"
      ],
      "metadata": {
        "id": "Gyf9p2HdxEE6",
        "colab": {
          "base_uri": "https://localhost:8080/"
        },
        "outputId": "7df36059-13e9-49e5-a08b-d16cb2708288"
      },
      "execution_count": null,
      "outputs": [
        {
          "output_type": "stream",
          "name": "stdout",
          "text": [
            "number 1: 3\n",
            "number 2: 4\n",
            "operation(+,-,*,/,**): **\n",
            "81.0\n"
          ]
        }
      ]
    },
    {
      "cell_type": "code",
      "source": [
        "flatRate = 5\n",
        "hourlyRate = 2.5\n",
        "\n",
        "for h in range(1,9) :\n",
        "  charge = flatRate+hourlyRate*h\n",
        "  if charge <10 :\n",
        "    print (f\"{h} 10.0\")\n",
        "  elif charge >20:\n",
        "    print (f'{h} 20.0')\n",
        "  else:\n",
        "    print (h,charge)\n"
      ],
      "metadata": {
        "colab": {
          "base_uri": "https://localhost:8080/"
        },
        "id": "b2lGvPhkBfB0",
        "outputId": "8e7227a4-c727-438f-ba6d-2d9beef925bc"
      },
      "execution_count": null,
      "outputs": [
        {
          "output_type": "stream",
          "name": "stdout",
          "text": [
            "1 10.0\n",
            "2 10.0\n",
            "3 12.5\n",
            "4 15.0\n",
            "5 17.5\n",
            "6 20.0\n",
            "7 20.0\n",
            "8 20.0\n"
          ]
        }
      ]
    },
    {
      "cell_type": "code",
      "source": [
        "print(\"Ads Profit\")\n",
        "tprice = 10\n",
        "fixedcost= 200\n",
        "\n",
        "for ads in range (0,201,25):\n",
        "  ATicket = 2*round(ads**.5)\n",
        "  Profit = (ATicket + 20) * tprice - ads - fixedcost\n",
        "  print(ads,Profit)\n"
      ],
      "metadata": {
        "colab": {
          "base_uri": "https://localhost:8080/"
        },
        "id": "Eww56S0vE8MI",
        "outputId": "d31f0b54-7d16-443a-a6be-a47159b42eea"
      },
      "execution_count": null,
      "outputs": [
        {
          "output_type": "stream",
          "name": "stdout",
          "text": [
            "Ads Profit\n",
            "0 0\n",
            "25 75\n",
            "50 90\n",
            "75 105\n",
            "100 100\n",
            "125 95\n",
            "150 90\n",
            "175 85\n",
            "200 80\n"
          ]
        }
      ]
    },
    {
      "cell_type": "code",
      "source": [
        "months ={}\n",
        "\n",
        "names =[\"Jan\",\"Feb\",\"Mar\",\"Apr\",\"May\",\"Jun\",\"Jul\",\"Aug\",\"Sep\",\"Oct\",\"Nov\",\"Dec\"]\n",
        "numbers = [1,2,3,4,5,6,7,8,9,10,11,12]\n",
        "\n",
        "for n in range(1,13):\n",
        "  months[n]= names[n-1]\n",
        "\n",
        "print(months)"
      ],
      "metadata": {
        "colab": {
          "base_uri": "https://localhost:8080/"
        },
        "id": "6Ap-o9lV460S",
        "outputId": "25979ae8-24c2-4fbd-a0aa-909225338105"
      },
      "execution_count": null,
      "outputs": [
        {
          "output_type": "stream",
          "name": "stdout",
          "text": [
            "{1: 'Jan', 2: 'Feb', 3: 'Mar', 4: 'Apr', 5: 'May', 6: 'Jun', 7: 'Jul', 8: 'Aug', 9: 'Sep', 10: 'Oct', 11: 'Nov', 12: 'Dec'}\n"
          ]
        }
      ]
    },
    {
      "cell_type": "code",
      "source": [
        "def calcFee(hours,decimals=2):\n",
        "  Fee = 5 + 2.50*(hours)\n",
        "  Fee = round(Fee,decimals)\n",
        "  return Fee\n",
        "\n",
        "def displayFee(Fees):\n",
        "  print(\"Parking Fee: $ \",Fees)\n",
        "\n",
        "hours = int(input(\"Enter Hours Parked: \"))\n",
        "\n",
        "Fees = calcFee(hours,decimals=2)\n",
        "displayFee(Fees)"
      ],
      "metadata": {
        "colab": {
          "base_uri": "https://localhost:8080/"
        },
        "id": "EYqvFKw2C8zM",
        "outputId": "1603a618-6349-4b7f-f7c8-2dc1161ce7b8"
      },
      "execution_count": null,
      "outputs": [
        {
          "output_type": "stream",
          "name": "stdout",
          "text": [
            "Enter Hours Parked: 4\n",
            "Parking Fee: $  15.0\n"
          ]
        }
      ]
    },
    {
      "cell_type": "code",
      "source": [
        "def Reversed1(s):\n",
        "  if len(s) ==1:\n",
        "    return s[0]\n",
        "  else:\n",
        "    return s[-1]+ Reversed1(s[:-1])\n",
        "\n",
        "s=input(\"input: \")\n",
        "Reversed1(s)"
      ],
      "metadata": {
        "colab": {
          "base_uri": "https://localhost:8080/",
          "height": 53
        },
        "id": "lqAtXW0cHUgo",
        "outputId": "45d91181-d0ed-4b0b-bdf1-b525e411b111"
      },
      "execution_count": null,
      "outputs": [
        {
          "name": "stdout",
          "output_type": "stream",
          "text": [
            "input: hello\n"
          ]
        },
        {
          "output_type": "execute_result",
          "data": {
            "text/plain": [
              "'olleh'"
            ],
            "application/vnd.google.colaboratory.intrinsic+json": {
              "type": "string"
            }
          },
          "metadata": {},
          "execution_count": 17
        }
      ]
    },
    {
      "cell_type": "code",
      "source": [
        "class Student:\n",
        "  def __init__(self,name,number,courses):\n",
        "    self.name = name\n",
        "    self.number = number\n",
        "    self.__courses = []\n",
        "\n",
        "  def set_name(self, newName):\n",
        "    self.name = newName\n",
        "\n",
        "  def get_name(self):\n",
        "    return self.name\n",
        "\n",
        "  def __repr__(self):\n",
        "    return f'Name: {self.name}'\n",
        "\n",
        "  def enroll(self,course):\n",
        "    if course not in self.__courses:\n",
        "      self.__courses.append(course)\n",
        "    else:\n",
        "      print(\"you have already enrolled\")\n",
        "\n",
        "  def get_courses(self):\n",
        "    return self.__courses"
      ],
      "metadata": {
        "id": "76UTB_cwZCxY"
      },
      "execution_count": null,
      "outputs": []
    },
    {
      "cell_type": "code",
      "source": [
        "s1= Student(\"James Bond\",\"007\",\"math\")\n",
        "s2= Student(\"Clark Kent\",\"333\",\"math\")"
      ],
      "metadata": {
        "id": "d5-ZkC4raX73"
      },
      "execution_count": null,
      "outputs": []
    },
    {
      "cell_type": "code",
      "source": [
        "s1.set_name(\"bob\")\n",
        "s1.get_name()"
      ],
      "metadata": {
        "id": "_PGYFX8oe3Nk",
        "outputId": "671bf3e4-a0fe-4456-97cf-309ec583ab3b",
        "colab": {
          "base_uri": "https://localhost:8080/",
          "height": 36
        }
      },
      "execution_count": null,
      "outputs": [
        {
          "output_type": "execute_result",
          "data": {
            "text/plain": [
              "'bob'"
            ],
            "application/vnd.google.colaboratory.intrinsic+json": {
              "type": "string"
            }
          },
          "metadata": {},
          "execution_count": 64
        }
      ]
    },
    {
      "cell_type": "code",
      "source": [
        "s3 = Student(\"john Doe\",\"1111\",\"no courses\")"
      ],
      "metadata": {
        "id": "9Whyv4L5v_r9"
      },
      "execution_count": null,
      "outputs": []
    },
    {
      "cell_type": "code",
      "source": [
        "s3.enroll(\"BTE 320\")\n",
        "s3.enroll(\"BTE 401\")\n",
        "s3.get_courses()\n"
      ],
      "metadata": {
        "colab": {
          "base_uri": "https://localhost:8080/"
        },
        "id": "hDiIpmj8vXDf",
        "outputId": "f05e12e3-461e-4deb-feb6-a69c98fa4359"
      },
      "execution_count": null,
      "outputs": [
        {
          "output_type": "execute_result",
          "data": {
            "text/plain": [
              "['BTE 320', 'BTE 401']"
            ]
          },
          "metadata": {},
          "execution_count": 66
        }
      ]
    },
    {
      "cell_type": "code",
      "source": [
        "s3.get_courses()"
      ],
      "metadata": {
        "colab": {
          "base_uri": "https://localhost:8080/"
        },
        "id": "680UHQ7VvmRz",
        "outputId": "38fb2307-28ad-4afc-f040-0d94fad01b22"
      },
      "execution_count": null,
      "outputs": [
        {
          "output_type": "execute_result",
          "data": {
            "text/plain": [
              "['BTE 320', 'BTE 401']"
            ]
          },
          "metadata": {},
          "execution_count": 72
        }
      ]
    }
  ]
}