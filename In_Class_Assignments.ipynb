{
  "nbformat": 4,
  "nbformat_minor": 0,
  "metadata": {
    "colab": {
      "provenance": [],
      "authorship_tag": "ABX9TyMTBwsS+6GiQOa7+OyzlDOA",
      "include_colab_link": true
    },
    "kernelspec": {
      "name": "python3",
      "display_name": "Python 3"
    },
    "language_info": {
      "name": "python"
    }
  },
  "cells": [
    {
      "cell_type": "markdown",
      "metadata": {
        "id": "view-in-github",
        "colab_type": "text"
      },
      "source": [
        "<a href=\"https://colab.research.google.com/github/Fayaz-Khalid/Fayaz-Khalid/blob/main/In_Class_Assignments.ipynb\" target=\"_parent\"><img src=\"https://colab.research.google.com/assets/colab-badge.svg\" alt=\"Open In Colab\"/></a>"
      ]
    },
    {
      "cell_type": "code",
      "execution_count": null,
      "metadata": {
        "colab": {
          "base_uri": "https://localhost:8080/"
        },
        "id": "Y5K69yFXkK0I",
        "outputId": "b5e2cda7-eb36-48c7-cd68-3d2d3abf6452"
      },
      "outputs": [
        {
          "output_type": "stream",
          "name": "stdout",
          "text": [
            "244.92000000000002\n"
          ]
        }
      ],
      "source": [
        "# Calculate surface area cylinder\n",
        "r=3 # Radius\n",
        "h=10 # Height\n",
        "pi=3.14\n",
        "\n",
        "Area = 2*pi*r**2 + 2*pi*r*h\n",
        "print(Area)"
      ]
    },
    {
      "cell_type": "code",
      "source": [
        "p1 = input ('p1 pick between rock, paper, and scissors: ')\n",
        "p2 = input ('p2 pick between rock, paper, and scissors: ')\n",
        "\n",
        "if p1 == p2:\n",
        "  print(\"Draw\")\n",
        "\n",
        "elif p1 == \"scissors\" and p2 == \"paper\":\n",
        "  print(\"p1 wins\")\n",
        "\n",
        "elif p1 == \"scissors\" and p2 == \"rock\":\n",
        "  print(\"p2 wins\")\n",
        "\n",
        "elif p1 == \"rock\" and p2 == \"paper\":\n",
        "  print(\"p2 wins\")\n",
        "\n",
        "elif p1 == \"rock\" and p2 == \"scissors\":\n",
        "  print(\"p1 wins\")\n",
        "\n",
        "elif p1 == \"paper\" and p2 == \"rock\":\n",
        "  print(\"p1 wins\")\n",
        "\n",
        "elif p1 == \"paper\" and p2 == \"scissors\":\n",
        "  print(\"p2 wins\")"
      ],
      "metadata": {
        "colab": {
          "base_uri": "https://localhost:8080/"
        },
        "id": "fl3OUCg7s36D",
        "outputId": "06c11b45-c5f1-4935-8f9a-f51060d4ca5b"
      },
      "execution_count": null,
      "outputs": [
        {
          "output_type": "stream",
          "name": "stdout",
          "text": [
            "p1 pick between rock, paper, and scissors: rock\n",
            "p2 pick between rock, paper, and scissors: paper\n",
            "p2 wins\n"
          ]
        }
      ]
    },
    {
      "cell_type": "code",
      "source": [
        "n1 = float(input(\"number 1: \"))\n",
        "n2 = float(input(\"number 2: \"))\n",
        "symbol = input(\"operation(+,-,*,/,**): \")\n",
        "\n",
        "\n",
        "if symbol == \"+\" :\n",
        "  ans = n1 + n2\n",
        "  print(ans)\n",
        "\n",
        "elif symbol == \"-\":\n",
        "  ans = n1 - n2\n",
        "  print(ans)\n",
        "\n",
        "elif symbol == \"*\":\n",
        "  ans = n1*n2\n",
        "  print(ans)\n",
        "\n",
        "elif symbol == \"/\":\n",
        "  ans = (n1)/(n2)\n",
        "  print(ans)\n",
        "\n",
        "elif symbol == \"**\":\n",
        "  ans = (n1)**(n2)\n",
        "  print(ans)\n",
        "\n"
      ],
      "metadata": {
        "id": "Gyf9p2HdxEE6",
        "colab": {
          "base_uri": "https://localhost:8080/"
        },
        "outputId": "7df36059-13e9-49e5-a08b-d16cb2708288"
      },
      "execution_count": 9,
      "outputs": [
        {
          "output_type": "stream",
          "name": "stdout",
          "text": [
            "number 1: 3\n",
            "number 2: 4\n",
            "operation(+,-,*,/,**): **\n",
            "81.0\n"
          ]
        }
      ]
    }
  ]
}