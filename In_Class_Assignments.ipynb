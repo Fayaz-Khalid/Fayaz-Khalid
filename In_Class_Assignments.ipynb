{
  "nbformat": 4,
  "nbformat_minor": 0,
  "metadata": {
    "colab": {
      "provenance": [],
      "authorship_tag": "ABX9TyNOJLKNAzBWJAb72gpaIpR8",
      "include_colab_link": true
    },
    "kernelspec": {
      "name": "python3",
      "display_name": "Python 3"
    },
    "language_info": {
      "name": "python"
    }
  },
  "cells": [
    {
      "cell_type": "markdown",
      "metadata": {
        "id": "view-in-github",
        "colab_type": "text"
      },
      "source": [
        "<a href=\"https://colab.research.google.com/github/Fayaz-Khalid/Fayaz-Khalid/blob/main/In_Class_Assignments.ipynb\" target=\"_parent\"><img src=\"https://colab.research.google.com/assets/colab-badge.svg\" alt=\"Open In Colab\"/></a>"
      ]
    },
    {
      "cell_type": "code",
      "execution_count": null,
      "metadata": {
        "colab": {
          "base_uri": "https://localhost:8080/"
        },
        "id": "Y5K69yFXkK0I",
        "outputId": "b5e2cda7-eb36-48c7-cd68-3d2d3abf6452"
      },
      "outputs": [
        {
          "output_type": "stream",
          "name": "stdout",
          "text": [
            "244.92000000000002\n"
          ]
        }
      ],
      "source": [
        "# Calculate surface area cylinder\n",
        "r=3 # Radius\n",
        "h=10 # Height\n",
        "pi=3.14\n",
        "\n",
        "Area = 2*pi*r**2 + 2*pi*r*h\n",
        "print(Area)"
      ]
    },
    {
      "cell_type": "code",
      "source": [
        "ans = input(\"Do you want to play a game (y or n): \")\n",
        "\n",
        "while ans == \"y\":\n",
        "\n",
        "  p1 = input ('p1 pick between rock, paper, and scissors: ')\n",
        "  p2 = input ('p2 pick between rock, paper, and scissors: ')\n",
        "\n",
        "  if p1 == p2:\n",
        "    print(\"Draw\")\n",
        "\n",
        "  elif p1 == \"scissors\" and p2 == \"paper\":\n",
        "    print(\"p1 wins\")\n",
        "\n",
        "  elif p1 == \"scissors\" and p2 == \"rock\":\n",
        "    print(\"p2 wins\")\n",
        "\n",
        "  elif p1 == \"rock\" and p2 == \"paper\":\n",
        "    print(\"p2 wins\")\n",
        "\n",
        "  elif p1 == \"rock\" and p2 == \"scissors\":\n",
        "    print(\"p1 wins\")\n",
        "\n",
        "  elif p1 == \"paper\" and p2 == \"rock\":\n",
        "    print(\"p1 wins\")\n",
        "\n",
        "  elif p1 == \"paper\" and p2 == \"scissors\":\n",
        "    print(\"p2 wins\")\n",
        "\n",
        "  ans = input(\"Do you want to play a game (y or n): \")"
      ],
      "metadata": {
        "colab": {
          "base_uri": "https://localhost:8080/"
        },
        "id": "fl3OUCg7s36D",
        "outputId": "33a58c0e-1ddd-4c0c-f783-d9d2f47d5165"
      },
      "execution_count": null,
      "outputs": [
        {
          "name": "stdout",
          "output_type": "stream",
          "text": [
            "Do you want to play a game (y or n): y\n",
            "p1 pick between rock, paper, and scissors: scissors\n",
            "p2 pick between rock, paper, and scissors: paper\n",
            "p1 wins\n",
            "Do you want to play a game (y or n): y\n",
            "p1 pick between rock, paper, and scissors: paper\n",
            "p2 pick between rock, paper, and scissors: rock\n",
            "p1 wins\n",
            "Do you want to play a game (y or n): n\n"
          ]
        }
      ]
    },
    {
      "cell_type": "code",
      "source": [
        "n1 = float(input(\"number 1: \"))\n",
        "n2 = float(input(\"number 2: \"))\n",
        "symbol = input(\"operation(+,-,*,/,**): \")\n",
        "\n",
        "\n",
        "if symbol == \"+\" :\n",
        "  ans = n1 + n2\n",
        "  print(ans)\n",
        "\n",
        "elif symbol == \"-\":\n",
        "  ans = n1 - n2\n",
        "  print(ans)\n",
        "\n",
        "elif symbol == \"*\":\n",
        "  ans = n1*n2\n",
        "  print(ans)\n",
        "\n",
        "elif symbol == \"/\":\n",
        "  ans = (n1)/(n2)\n",
        "  print(ans)\n",
        "\n",
        "elif symbol == \"**\":\n",
        "  ans = (n1)**(n2)\n",
        "  print(ans)\n",
        "\n"
      ],
      "metadata": {
        "id": "Gyf9p2HdxEE6",
        "colab": {
          "base_uri": "https://localhost:8080/"
        },
        "outputId": "7df36059-13e9-49e5-a08b-d16cb2708288"
      },
      "execution_count": null,
      "outputs": [
        {
          "output_type": "stream",
          "name": "stdout",
          "text": [
            "number 1: 3\n",
            "number 2: 4\n",
            "operation(+,-,*,/,**): **\n",
            "81.0\n"
          ]
        }
      ]
    },
    {
      "cell_type": "code",
      "source": [
        "flatRate = 5\n",
        "hourlyRate = 2.5\n",
        "\n",
        "for h in range(1,9) :\n",
        "  charge = flatRate+hourlyRate*h\n",
        "  if charge <10 :\n",
        "    print (f\"{h} 10\")\n",
        "  elif charge >20:\n",
        "    print (f'{h} 20')\n",
        "  else:\n",
        "    print (h,charge)\n"
      ],
      "metadata": {
        "colab": {
          "base_uri": "https://localhost:8080/"
        },
        "id": "b2lGvPhkBfB0",
        "outputId": "783f94ca-e3be-4329-9fd3-20eace86bf36"
      },
      "execution_count": null,
      "outputs": [
        {
          "output_type": "stream",
          "name": "stdout",
          "text": [
            "1 10\n",
            "2 10.0\n",
            "3 12.5\n",
            "4 15.0\n",
            "5 17.5\n",
            "6 20.0\n",
            "7 20\n",
            "8 20\n"
          ]
        }
      ]
    },
    {
      "cell_type": "code",
      "source": [
        "print(\"Ads Profit\")\n",
        "tprice = 10\n",
        "fixedcost= 200\n",
        "\n",
        "for ads in range (0,201,25):\n",
        "  ATicket = 2*round(ads**.5)\n",
        "  Profit = (ATicket + 20) * tprice - ads - fixedcost\n",
        "  print(ads,Profit)\n"
      ],
      "metadata": {
        "colab": {
          "base_uri": "https://localhost:8080/"
        },
        "id": "Eww56S0vE8MI",
        "outputId": "d31f0b54-7d16-443a-a6be-a47159b42eea"
      },
      "execution_count": null,
      "outputs": [
        {
          "output_type": "stream",
          "name": "stdout",
          "text": [
            "Ads Profit\n",
            "0 0\n",
            "25 75\n",
            "50 90\n",
            "75 105\n",
            "100 100\n",
            "125 95\n",
            "150 90\n",
            "175 85\n",
            "200 80\n"
          ]
        }
      ]
    },
    {
      "cell_type": "code",
      "source": [
        "listing =[]\n",
        "\n",
        "item = int(input(\"Provide Values: \"))\n",
        "\n",
        "while True:\n",
        "  if item == 0:\n",
        "    break\n",
        "  else:\n",
        "    listing.append(item)\n",
        "    item = int(input(\"Provide Values: \"))\n",
        "\n",
        "print(listing)"
      ],
      "metadata": {
        "colab": {
          "base_uri": "https://localhost:8080/"
        },
        "id": "LPGJB4WaI_bd",
        "outputId": "173b9290-76a6-43f5-9a9b-9b31f38bff4c"
      },
      "execution_count": null,
      "outputs": [
        {
          "output_type": "stream",
          "name": "stdout",
          "text": [
            "Provide Values: 7\n",
            "Provide Values: 5\n",
            "Provide Values: 52\n",
            "Provide Values: 21\n",
            "Provide Values: 0\n",
            "[7, 5, 52, 21]\n"
          ]
        }
      ]
    },
    {
      "cell_type": "code",
      "source": [
        "months ={}\n",
        "\n",
        "names =[\"Jan\",\"Feb\",\"Mar\",\"Apr\",\"May\",\"Jun\",\"Jul\",\"Aug\",\"Sep\",\"Oct\",\"Nov\",\"Dec\"]\n",
        "numbers = [1,2,3,4,5,6,7,8,9,10,11,12]\n",
        "\n",
        "for n in range(1,13):\n",
        "  months[n]= names[n-1]\n",
        "\n",
        "print(months)"
      ],
      "metadata": {
        "colab": {
          "base_uri": "https://localhost:8080/"
        },
        "id": "6Ap-o9lV460S",
        "outputId": "25979ae8-24c2-4fbd-a0aa-909225338105"
      },
      "execution_count": null,
      "outputs": [
        {
          "output_type": "stream",
          "name": "stdout",
          "text": [
            "{1: 'Jan', 2: 'Feb', 3: 'Mar', 4: 'Apr', 5: 'May', 6: 'Jun', 7: 'Jul', 8: 'Aug', 9: 'Sep', 10: 'Oct', 11: 'Nov', 12: 'Dec'}\n"
          ]
        }
      ]
    },
    {
      "cell_type": "code",
      "source": [
        "# assigment one 9_10\n",
        "annual_salary = float(input(\"enter annual salary: \"))\n",
        "portion = float(input(\"enter portion saved: \"))\n",
        "total_cost = float(input(\"enter cost of house: \"))\n",
        "\n",
        "months = 0\n",
        "\n",
        "while amount <= down_payment\n",
        "  amount +=\n",
        "  months +="
      ],
      "metadata": {
        "id": "_yWyt8AXLraT"
      },
      "execution_count": null,
      "outputs": []
    },
    {
      "cell_type": "code",
      "source": [
        "# assignment two 9_10\n",
        "semi_annual_raise = float(input(\"Enter your annual salary\"))\n",
        "semi_annual_rates =\n",
        "while amount:\n",
        "  months +=1\n",
        "  if months % 6==0\n",
        "\n",
        "  amount"
      ],
      "metadata": {
        "id": "GFf-kdRyMEtw"
      },
      "execution_count": null,
      "outputs": []
    },
    {
      "cell_type": "code",
      "source": [
        "#assignment three 9_10 - BOOLEAN\n",
        "def range_check (num,low,high):\n",
        "  if num >= low and num <= high:\n",
        "    return True\n",
        "  else:\n",
        "    return False"
      ],
      "metadata": {
        "id": "MdfgvJddNKYS"
      },
      "execution_count": null,
      "outputs": []
    },
    {
      "cell_type": "code",
      "source": [
        "print(range_check(2,1,3))"
      ],
      "metadata": {
        "colab": {
          "base_uri": "https://localhost:8080/"
        },
        "id": "rd-UpU9tSx9c",
        "outputId": "c766c78e-864a-4ecc-af0a-bf18edd5d14f"
      },
      "execution_count": null,
      "outputs": [
        {
          "output_type": "stream",
          "name": "stdout",
          "text": [
            "True\n"
          ]
        }
      ]
    },
    {
      "cell_type": "code",
      "source": [
        "def calcFee(hours):\n",
        "  Fee = 5 + 2.50*(hours)\n",
        "  return Fee\n",
        "\n",
        "hours = int(input(\"Enter Hours Parked: \"))\n",
        "\n",
        "Fees = calcFee(hours)\n",
        "print(\"Parking Fee:\",Fees)"
      ],
      "metadata": {
        "colab": {
          "base_uri": "https://localhost:8080/"
        },
        "id": "3XnkDvR89r1T",
        "outputId": "44809f2c-917a-41e3-e4f5-dcb42f682202"
      },
      "execution_count": null,
      "outputs": [
        {
          "output_type": "stream",
          "name": "stdout",
          "text": [
            "Enter Hours Parked: 7\n",
            "Parking Fee: 22.5\n"
          ]
        }
      ]
    },
    {
      "cell_type": "code",
      "source": [
        "def calcFee(hours,decimals=2):\n",
        "  Fee = 5 + 2.50*(hours)\n",
        "  Fee = round(Fee,decimals)\n",
        "  return Fee\n",
        "\n",
        "def displayFee(Fees):\n",
        "  print(\"Parking Fee: $ \",Fees)\n",
        "\n",
        "hours = int(input(\"Enter Hours Parked: \"))\n",
        "\n",
        "Fees = calcFee(hours,decimals=2)\n",
        "displayFee(Fees)"
      ],
      "metadata": {
        "colab": {
          "base_uri": "https://localhost:8080/"
        },
        "id": "EYqvFKw2C8zM",
        "outputId": "48cbe741-f9b6-476a-f7b9-eb677c88dbe1"
      },
      "execution_count": null,
      "outputs": [
        {
          "output_type": "stream",
          "name": "stdout",
          "text": [
            "Enter Hours Parked: 4\n",
            "Parking Fee: $  15.0\n"
          ]
        }
      ]
    },
    {
      "cell_type": "code",
      "source": [
        "def Reversed1(s):\n",
        "  if len(s) ==1:\n",
        "    return s[0]\n",
        "  else:\n",
        "    return s[-1]+ Reversed1(s[:-1])\n",
        "\n",
        "s=input(\"input: \")\n",
        "Reversed1(s)"
      ],
      "metadata": {
        "colab": {
          "base_uri": "https://localhost:8080/",
          "height": 53
        },
        "id": "lqAtXW0cHUgo",
        "outputId": "45d91181-d0ed-4b0b-bdf1-b525e411b111"
      },
      "execution_count": 17,
      "outputs": [
        {
          "name": "stdout",
          "output_type": "stream",
          "text": [
            "input: hello\n"
          ]
        },
        {
          "output_type": "execute_result",
          "data": {
            "text/plain": [
              "'olleh'"
            ],
            "application/vnd.google.colaboratory.intrinsic+json": {
              "type": "string"
            }
          },
          "metadata": {},
          "execution_count": 17
        }
      ]
    }
  ]
}